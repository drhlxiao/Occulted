{
 "cells": [
  {
   "cell_type": "code",
   "execution_count": null,
   "metadata": {
    "collapsed": false
   },
   "outputs": [],
   "source": [
    "%matplotlib inline"
   ]
  },
  {
   "cell_type": "markdown",
   "metadata": {},
   "source": [
    "\n",
    "# AIA to STEREO Coordinate Conversion\n",
    "\n",
    "\n",
    "In this example we demonstrate how you can identify a point or region on the\n",
    "surface of the Sun in an AIA image and then convert that point to a point in a\n",
    "STEREO image.\n",
    "\n",
    "<div class=\"alert alert-info\"><h4>Note</h4><p>This example requires `WCSAxes` which is an optional SunPy dependency.</p></div>\n",
    "\n"
   ]
  },
  {
   "cell_type": "code",
   "execution_count": 19,
   "metadata": {
    "collapsed": false
   },
   "outputs": [],
   "source": [
    "import matplotlib.pyplot as plt\n",
    "\n",
    "import astropy.units as u\n",
    "from astropy.coordinates import SkyCoord\n",
    "import wcsaxes\n",
    "\n",
    "import sunpy.map\n",
    "import sunpy.coordinates\n",
    "import sunpy.coordinates.wcs_utils\n",
    "from sunpy.net import vso"
   ]
  },
  {
   "cell_type": "markdown",
   "metadata": {},
   "source": [
    "The first step is to download some data, we are going to get an image from\n",
    "early 2011 when the STEREO spacecraft were roughly 90 deg seperated from the\n",
    "Earth.\n",
    "\n"
   ]
  },
  {
   "cell_type": "code",
   "execution_count": 35,
   "metadata": {
    "collapsed": false
   },
   "outputs": [],
   "source": [
    "stereo = (vso.attrs.Source('STEREO_B') &\n",
    "          vso.attrs.Instrument('EUVI') &\n",
    "          vso.attrs.Time('2010-11-03T12:11:44', '2010-11-03T12:31:13'))\n",
    "\n",
    "aia = (vso.attrs.Instrument('AIA') &\n",
    "       vso.attrs.Sample(24 * u.hour) &\n",
    "       vso.attrs.Time('2010-11-03T12:11:44', '2010-11-03T12:31:44'))\n",
    "\n",
    "wave = vso.attrs.Wave(30 * u.nm, 31 * u.nm)\n",
    "\n",
    "\n",
    "vc = vso.VSOClient()\n",
    "res = vc.query(wave, aia | stereo)"
   ]
  },
  {
   "cell_type": "markdown",
   "metadata": {},
   "source": [
    "The results from VSO query:\n",
    "\n"
   ]
  },
  {
   "cell_type": "code",
   "execution_count": 36,
   "metadata": {
    "collapsed": false
   },
   "outputs": [
    {
     "name": "stdout",
     "output_type": "stream",
     "text": [
      "   Start Time [1]       End Time [1]     Source  Instrument   Type  \n",
      "------------------- ------------------- -------- ---------- --------\n",
      "2010-11-03 12:17:13 2010-11-03 12:17:17 STEREO_B     SECCHI FULLDISK\n",
      "2010-11-03 12:11:44 2010-11-03 12:11:45      SDO        AIA FULLDISK\n"
     ]
    }
   ],
   "source": [
    "print(res)"
   ]
  },
  {
   "cell_type": "markdown",
   "metadata": {},
   "source": [
    "Download the files:\n",
    "\n"
   ]
  },
  {
   "cell_type": "code",
   "execution_count": 37,
   "metadata": {
    "collapsed": false
   },
   "outputs": [
    {
     "name": "stdout",
     "output_type": "stream",
     "text": [
      "['/Users/wheatley/sunpy/data/20101103_121615_n4eub.6.fts']\n"
     ]
    }
   ],
   "source": [
    "files = vc.get(res).wait()\n",
    "print files"
   ]
  },
  {
   "cell_type": "markdown",
   "metadata": {},
   "source": [
    "Create a dictionary with the two maps, cropped down to full disk.\n",
    "\n"
   ]
  },
  {
   "cell_type": "code",
   "execution_count": 28,
   "metadata": {
    "collapsed": false
   },
   "outputs": [],
   "source": [
    "maps = {m.detector: m.submap((-1100, 1100) * u.arcsec,\n",
    "                             (-1100, 1100) * u.arcsec) for m in sunpy.map.Map(files)}"
   ]
  },
  {
   "cell_type": "markdown",
   "metadata": {},
   "source": [
    "Plot both maps\n",
    "\n"
   ]
  },
  {
   "cell_type": "code",
   "execution_count": 29,
   "metadata": {
    "collapsed": false
   },
   "outputs": [],
   "source": [
    "fig = plt.figure(figsize=(15, 5))\n",
    "for i, m in enumerate(maps.values()):\n",
    "    ax = fig.add_subplot(1, 2, i+1, projection=m.wcs)\n",
    "    m.plot(axes=ax)"
   ]
  },
  {
   "cell_type": "markdown",
   "metadata": {},
   "source": [
    "We are now going to pick out a region around the south west corner:\n",
    "\n"
   ]
  },
  {
   "cell_type": "code",
   "execution_count": 30,
   "metadata": {
    "collapsed": false
   },
   "outputs": [],
   "source": [
    "aia_width = 200 * u.arcsec\n",
    "aia_height = 250 * u.arcsec\n",
    "aia_bottom_left = (-800, -300) * u.arcsec"
   ]
  },
  {
   "cell_type": "markdown",
   "metadata": {},
   "source": [
    "Plot a rectangle around the region we want to crop\n",
    "\n"
   ]
  },
  {
   "cell_type": "code",
   "execution_count": 15,
   "metadata": {
    "collapsed": false
   },
   "outputs": [
    {
     "data": {
      "text/plain": [
       "[<matplotlib.patches.Rectangle at 0x11f1ff190>]"
      ]
     },
     "execution_count": 15,
     "metadata": {},
     "output_type": "execute_result"
    }
   ],
   "source": [
    "m = maps['AIA']\n",
    "fig = plt.figure()\n",
    "ax = fig.add_subplot(111, projection=m.wcs)\n",
    "m.plot(axes=ax)\n",
    "m.draw_rectangle(aia_bottom_left, aia_width, aia_height)"
   ]
  },
  {
   "cell_type": "markdown",
   "metadata": {},
   "source": [
    "Create a submap of this area\n",
    "\n"
   ]
  },
  {
   "cell_type": "code",
   "execution_count": 16,
   "metadata": {
    "collapsed": false
   },
   "outputs": [
    {
     "name": "stderr",
     "output_type": "stream",
     "text": [
      "/Users/wheatley/anaconda/lib/python2.7/site-packages/matplotlib/figure.py:397: UserWarning: matplotlib is currently using a non-GUI backend, so cannot show the figure\n",
      "  \"matplotlib is currently using a non-GUI backend, \"\n"
     ]
    }
   ],
   "source": [
    "subaia = maps['AIA'].submap(u.Quantity((aia_bottom_left[0],\n",
    "                                        aia_bottom_left[0] + aia_width)),\n",
    "                            u.Quantity((aia_bottom_left[1],\n",
    "                                        aia_bottom_left[1] + aia_height)))\n",
    "subaia.peek()"
   ]
  },
  {
   "cell_type": "markdown",
   "metadata": {},
   "source": [
    "We now want to crop out this same area on the STEREO EUVI image. First, we\n",
    "create a `SkyCoord` object with the four corners of the box. When we create\n",
    "this object, we use `Map.coordinate_frame` so that the location parameters of\n",
    "SDO are correctly set.\n",
    "\n"
   ]
  },
  {
   "cell_type": "code",
   "execution_count": null,
   "metadata": {
    "collapsed": false
   },
   "outputs": [],
   "source": [
    "hpc_aia = SkyCoord((aia_bottom_left,\n",
    "                    aia_bottom_left + u.Quantity((aia_width, 0 * u.arcsec)),\n",
    "                    aia_bottom_left + u.Quantity((0 * u.arcsec, aia_height)),\n",
    "                    aia_bottom_left + u.Quantity((aia_width, aia_height))),\n",
    "                   frame=maps['AIA'].coordinate_frame)\n",
    "\n",
    "print(hpc_aia)"
   ]
  },
  {
   "cell_type": "markdown",
   "metadata": {},
   "source": [
    "Now we convert these coordinates into Heliographic Stonyhurst coordinates,\n",
    "which are on the Sun, with the zero meridian facing the Earth.\n",
    "\n"
   ]
  },
  {
   "cell_type": "code",
   "execution_count": null,
   "metadata": {
    "collapsed": false
   },
   "outputs": [],
   "source": [
    "hgs = hpc_aia.transform_to('heliographic_stonyhurst')\n",
    "print(hgs)"
   ]
  },
  {
   "cell_type": "markdown",
   "metadata": {},
   "source": [
    "Now we need to provide the position information from the STEREO Imager:\n",
    "\n"
   ]
  },
  {
   "cell_type": "code",
   "execution_count": null,
   "metadata": {
    "collapsed": false
   },
   "outputs": [],
   "source": [
    "hgs.D0 = maps['EUVI'].dsun\n",
    "hgs.L0 = maps['EUVI'].heliographic_longitude\n",
    "hgs.B0 = maps['EUVI'].heliographic_latitude"
   ]
  },
  {
   "cell_type": "markdown",
   "metadata": {},
   "source": [
    "We do this on the Heliographic frame because when in a Heliographic frame\n",
    "these parameters have no effect on the frame, but they are used when the\n",
    "frame is converted back to Helioprojective. And now we can convert back to\n",
    "Helioprojective, but this time from the view-point of STEREO B:\n",
    "\n"
   ]
  },
  {
   "cell_type": "code",
   "execution_count": null,
   "metadata": {
    "collapsed": false
   },
   "outputs": [],
   "source": [
    "hpc_B = hgs.transform_to('helioprojective')\n",
    "print(hpc_B)"
   ]
  },
  {
   "cell_type": "markdown",
   "metadata": {},
   "source": [
    "Now we can plot this box on both the AIA and EUVI images:\n",
    "\n"
   ]
  },
  {
   "cell_type": "code",
   "execution_count": null,
   "metadata": {
    "collapsed": false
   },
   "outputs": [],
   "source": [
    "fig = plt.figure(figsize=(15, 5))\n",
    "for i, (m, coord) in enumerate(zip([maps['EUVI'], maps['AIA']],\n",
    "                                   [hpc_B, hpc_aia])):\n",
    "    ax = fig.add_subplot(1, 2, i+1, projection=m.wcs)\n",
    "    m.plot(axes=ax)\n",
    "\n",
    "    # coord[3] is the top-right corner coord[0] is the bottom-left corner.\n",
    "    w = (coord[3].Tx - coord[0].Tx)\n",
    "    h = (coord[3].Ty - coord[0].Ty)\n",
    "    m.draw_rectangle(u.Quantity((coord[0].Tx, coord[0].Ty)), w, h,\n",
    "                     transform=ax.get_transform('world'))"
   ]
  },
  {
   "cell_type": "markdown",
   "metadata": {},
   "source": [
    "We can now zoom in on the region in the EUVI image:\n",
    "\n"
   ]
  },
  {
   "cell_type": "code",
   "execution_count": null,
   "metadata": {
    "collapsed": false
   },
   "outputs": [],
   "source": [
    "subeuvi = maps['EUVI'].submap(u.Quantity((hpc_B[0].Tx, hpc_B[3].Tx)),\n",
    "                              u.Quantity((hpc_B[0].Ty, hpc_B[3].Ty)))\n",
    "subeuvi.peek()"
   ]
  },
  {
   "cell_type": "markdown",
   "metadata": {},
   "source": [
    "Putting them together:\n",
    "\n"
   ]
  },
  {
   "cell_type": "code",
   "execution_count": null,
   "metadata": {
    "collapsed": false
   },
   "outputs": [],
   "source": [
    "fig = plt.figure(figsize=(15, 5))\n",
    "for i, m in enumerate((subeuvi, subaia)):\n",
    "    ax = fig.add_subplot(1, 2, i+1, projection=m.wcs)\n",
    "    m.plot(axes=ax)"
   ]
  }
 ],
 "metadata": {
  "anaconda-cloud": {},
  "kernelspec": {
   "display_name": "Python [default]",
   "language": "python",
   "name": "python2"
  },
  "language_info": {
   "codemirror_mode": {
    "name": "ipython",
    "version": 2
   },
   "file_extension": ".py",
   "mimetype": "text/x-python",
   "name": "python",
   "nbconvert_exporter": "python",
   "pygments_lexer": "ipython2",
   "version": "2.7.12"
  }
 },
 "nbformat": 4,
 "nbformat_minor": 0
}
